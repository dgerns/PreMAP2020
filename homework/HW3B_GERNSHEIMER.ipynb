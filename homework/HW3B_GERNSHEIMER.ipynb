{
 "cells": [
  {
   "cell_type": "markdown",
   "metadata": {},
   "source": [
    "**<font color='red'>Change the name from assignment_lastname to include YOUR last name</font>**. This will make sure that the assignment doesn't get overwritten when you do a git pull in class. "
   ]
  },
  {
   "cell_type": "markdown",
   "metadata": {},
   "source": [
    "# Homework 3B - the coding portion"
   ]
  },
  {
   "cell_type": "markdown",
   "metadata": {},
   "source": [
    "## Due: Friday, October 11, by 5pm"
   ]
  },
  {
   "cell_type": "markdown",
   "metadata": {},
   "source": [
    "Skills: numpy, basic python "
   ]
  },
  {
   "cell_type": "markdown",
   "metadata": {},
   "source": [
    "Turn in instructions:\n",
    "1. Before turning in your notebook, make sure you save it first using the floppy disk save icon or File -> save.\n",
    "2. Go to the terminal, open a new tab or window and cd into the directory where you worked on this homework. For most of you that should be ~/PreMAP2019/homework/\n",
    "3. Use the cp command to copy your homework (HW3B_YOURlastname.ipynb) into /astro/store/gradscratch/tmp/premap2019/homework3/"
   ]
  },
  {
   "cell_type": "markdown",
   "metadata": {},
   "source": [
    "Always start with your import statement! You will only need the package `numpy` for today's homework"
   ]
  },
  {
   "cell_type": "code",
   "execution_count": 1,
   "metadata": {},
   "outputs": [],
   "source": [
    "#We're going to be using numpy in this homework, so we need to import it first.\n",
    "import numpy as np\n",
    "\n",
    "#The next command makes sure that when I try to display images they show to the notebook screen\n",
    "%matplotlib inline "
   ]
  },
  {
   "cell_type": "markdown",
   "metadata": {},
   "source": [
    "### The exercises in this coding assignment will be based on the article you read for Homework 3A. You can find a link to the article [here](https://astrobites.org/2018/07/18/best-exoplanet-destinations-for-mountain-climbers/)."
   ]
  },
  {
   "cell_type": "markdown",
   "metadata": {},
   "source": [
    "**Before you get started:**\n",
    "Remember that you have many tools to help you out with coding! First, please reference the notebooks we've been working through in class. Great coders copy their old code ALL THE TIME, it is a great resource! You should also make Google your best friend for code questions. Don't hesitate to google your questions. Lastly, you should get familiar with the built in documentation for python and python packages such as numpy. You can access help pages by typing the function name, followed by a ? in a coding cell and then executing it."
   ]
  },
  {
   "cell_type": "markdown",
   "metadata": {},
   "source": [
    "**1)**\n",
    "Use the `print` command to print the title of the astrobites article to the screen."
   ]
  },
  {
   "cell_type": "code",
   "execution_count": 2,
   "metadata": {},
   "outputs": [
    {
     "name": "stdout",
     "output_type": "stream",
     "text": [
      "Best Exoplanet destinations for mountain climbers\n"
     ]
    }
   ],
   "source": [
    "name = (\"Best Exoplanet destinations for mountain climbers\")\n",
    "print(name) "
   ]
  },
  {
   "cell_type": "markdown",
   "metadata": {},
   "source": [
    "Using Figure 1 from the paper as a reference, we're going to use Python to do some calculations for us:"
   ]
  },
  {
   "cell_type": "code",
   "execution_count": 3,
   "metadata": {
    "scrolled": false
   },
   "outputs": [
    {
     "ename": "FileNotFoundError",
     "evalue": "[Errno 2] No such file or directory: '/astro/users/mlazz/PreMAP2019/homework/data/exomountain_trainsit.png'",
     "output_type": "error",
     "traceback": [
      "\u001b[0;31m---------------------------------------------------------------------------\u001b[0m",
      "\u001b[0;31mFileNotFoundError\u001b[0m                         Traceback (most recent call last)",
      "\u001b[0;32m<ipython-input-3-ca137e43f7c1>\u001b[0m in \u001b[0;36m<module>\u001b[0;34m\u001b[0m\n\u001b[1;32m      2\u001b[0m \u001b[0;32mfrom\u001b[0m \u001b[0mIPython\u001b[0m\u001b[0;34m.\u001b[0m\u001b[0mdisplay\u001b[0m \u001b[0;32mimport\u001b[0m \u001b[0mImage\u001b[0m\u001b[0;34m\u001b[0m\u001b[0;34m\u001b[0m\u001b[0m\n\u001b[1;32m      3\u001b[0m \u001b[0;32mfrom\u001b[0m \u001b[0mIPython\u001b[0m\u001b[0;34m.\u001b[0m\u001b[0mdisplay\u001b[0m \u001b[0;32mimport\u001b[0m \u001b[0mdisplay\u001b[0m\u001b[0;34m\u001b[0m\u001b[0;34m\u001b[0m\u001b[0m\n\u001b[0;32m----> 4\u001b[0;31m \u001b[0mlc\u001b[0m \u001b[0;34m=\u001b[0m \u001b[0mImage\u001b[0m\u001b[0;34m(\u001b[0m\u001b[0mfilename\u001b[0m\u001b[0;34m=\u001b[0m\u001b[0;34m'/astro/users/mlazz/PreMAP2019/homework/data/exomountain_trainsit.png'\u001b[0m\u001b[0;34m)\u001b[0m\u001b[0;34m\u001b[0m\u001b[0;34m\u001b[0m\u001b[0m\n\u001b[0m\u001b[1;32m      5\u001b[0m \u001b[0mdisplay\u001b[0m\u001b[0;34m(\u001b[0m\u001b[0mlc\u001b[0m\u001b[0;34m)\u001b[0m\u001b[0;34m\u001b[0m\u001b[0;34m\u001b[0m\u001b[0m\n",
      "\u001b[0;32m/opt/conda/lib/python3.7/site-packages/IPython/core/display.py\u001b[0m in \u001b[0;36m__init__\u001b[0;34m(self, data, url, filename, format, embed, width, height, retina, unconfined, metadata)\u001b[0m\n\u001b[1;32m   1223\u001b[0m         \u001b[0mself\u001b[0m\u001b[0;34m.\u001b[0m\u001b[0munconfined\u001b[0m \u001b[0;34m=\u001b[0m \u001b[0munconfined\u001b[0m\u001b[0;34m\u001b[0m\u001b[0;34m\u001b[0m\u001b[0m\n\u001b[1;32m   1224\u001b[0m         super(Image, self).__init__(data=data, url=url, filename=filename, \n\u001b[0;32m-> 1225\u001b[0;31m                 metadata=metadata)\n\u001b[0m\u001b[1;32m   1226\u001b[0m \u001b[0;34m\u001b[0m\u001b[0m\n\u001b[1;32m   1227\u001b[0m         \u001b[0;32mif\u001b[0m \u001b[0mself\u001b[0m\u001b[0;34m.\u001b[0m\u001b[0mwidth\u001b[0m \u001b[0;32mis\u001b[0m \u001b[0;32mNone\u001b[0m \u001b[0;32mand\u001b[0m \u001b[0mself\u001b[0m\u001b[0;34m.\u001b[0m\u001b[0mmetadata\u001b[0m\u001b[0;34m.\u001b[0m\u001b[0mget\u001b[0m\u001b[0;34m(\u001b[0m\u001b[0;34m'width'\u001b[0m\u001b[0;34m,\u001b[0m \u001b[0;34m{\u001b[0m\u001b[0;34m}\u001b[0m\u001b[0;34m)\u001b[0m\u001b[0;34m:\u001b[0m\u001b[0;34m\u001b[0m\u001b[0;34m\u001b[0m\u001b[0m\n",
      "\u001b[0;32m/opt/conda/lib/python3.7/site-packages/IPython/core/display.py\u001b[0m in \u001b[0;36m__init__\u001b[0;34m(self, data, url, filename, metadata)\u001b[0m\n\u001b[1;32m    628\u001b[0m             \u001b[0mself\u001b[0m\u001b[0;34m.\u001b[0m\u001b[0mmetadata\u001b[0m \u001b[0;34m=\u001b[0m \u001b[0;34m{\u001b[0m\u001b[0;34m}\u001b[0m\u001b[0;34m\u001b[0m\u001b[0;34m\u001b[0m\u001b[0m\n\u001b[1;32m    629\u001b[0m \u001b[0;34m\u001b[0m\u001b[0m\n\u001b[0;32m--> 630\u001b[0;31m         \u001b[0mself\u001b[0m\u001b[0;34m.\u001b[0m\u001b[0mreload\u001b[0m\u001b[0;34m(\u001b[0m\u001b[0;34m)\u001b[0m\u001b[0;34m\u001b[0m\u001b[0;34m\u001b[0m\u001b[0m\n\u001b[0m\u001b[1;32m    631\u001b[0m         \u001b[0mself\u001b[0m\u001b[0;34m.\u001b[0m\u001b[0m_check_data\u001b[0m\u001b[0;34m(\u001b[0m\u001b[0;34m)\u001b[0m\u001b[0;34m\u001b[0m\u001b[0;34m\u001b[0m\u001b[0m\n\u001b[1;32m    632\u001b[0m \u001b[0;34m\u001b[0m\u001b[0m\n",
      "\u001b[0;32m/opt/conda/lib/python3.7/site-packages/IPython/core/display.py\u001b[0m in \u001b[0;36mreload\u001b[0;34m(self)\u001b[0m\n\u001b[1;32m   1254\u001b[0m         \u001b[0;34m\"\"\"Reload the raw data from file or URL.\"\"\"\u001b[0m\u001b[0;34m\u001b[0m\u001b[0;34m\u001b[0m\u001b[0m\n\u001b[1;32m   1255\u001b[0m         \u001b[0;32mif\u001b[0m \u001b[0mself\u001b[0m\u001b[0;34m.\u001b[0m\u001b[0membed\u001b[0m\u001b[0;34m:\u001b[0m\u001b[0;34m\u001b[0m\u001b[0;34m\u001b[0m\u001b[0m\n\u001b[0;32m-> 1256\u001b[0;31m             \u001b[0msuper\u001b[0m\u001b[0;34m(\u001b[0m\u001b[0mImage\u001b[0m\u001b[0;34m,\u001b[0m\u001b[0mself\u001b[0m\u001b[0;34m)\u001b[0m\u001b[0;34m.\u001b[0m\u001b[0mreload\u001b[0m\u001b[0;34m(\u001b[0m\u001b[0;34m)\u001b[0m\u001b[0;34m\u001b[0m\u001b[0;34m\u001b[0m\u001b[0m\n\u001b[0m\u001b[1;32m   1257\u001b[0m             \u001b[0;32mif\u001b[0m \u001b[0mself\u001b[0m\u001b[0;34m.\u001b[0m\u001b[0mretina\u001b[0m\u001b[0;34m:\u001b[0m\u001b[0;34m\u001b[0m\u001b[0;34m\u001b[0m\u001b[0m\n\u001b[1;32m   1258\u001b[0m                 \u001b[0mself\u001b[0m\u001b[0;34m.\u001b[0m\u001b[0m_retina_shape\u001b[0m\u001b[0;34m(\u001b[0m\u001b[0;34m)\u001b[0m\u001b[0;34m\u001b[0m\u001b[0;34m\u001b[0m\u001b[0m\n",
      "\u001b[0;32m/opt/conda/lib/python3.7/site-packages/IPython/core/display.py\u001b[0m in \u001b[0;36mreload\u001b[0;34m(self)\u001b[0m\n\u001b[1;32m    653\u001b[0m         \u001b[0;34m\"\"\"Reload the raw data from file or URL.\"\"\"\u001b[0m\u001b[0;34m\u001b[0m\u001b[0;34m\u001b[0m\u001b[0m\n\u001b[1;32m    654\u001b[0m         \u001b[0;32mif\u001b[0m \u001b[0mself\u001b[0m\u001b[0;34m.\u001b[0m\u001b[0mfilename\u001b[0m \u001b[0;32mis\u001b[0m \u001b[0;32mnot\u001b[0m \u001b[0;32mNone\u001b[0m\u001b[0;34m:\u001b[0m\u001b[0;34m\u001b[0m\u001b[0;34m\u001b[0m\u001b[0m\n\u001b[0;32m--> 655\u001b[0;31m             \u001b[0;32mwith\u001b[0m \u001b[0mopen\u001b[0m\u001b[0;34m(\u001b[0m\u001b[0mself\u001b[0m\u001b[0;34m.\u001b[0m\u001b[0mfilename\u001b[0m\u001b[0;34m,\u001b[0m \u001b[0mself\u001b[0m\u001b[0;34m.\u001b[0m\u001b[0m_read_flags\u001b[0m\u001b[0;34m)\u001b[0m \u001b[0;32mas\u001b[0m \u001b[0mf\u001b[0m\u001b[0;34m:\u001b[0m\u001b[0;34m\u001b[0m\u001b[0;34m\u001b[0m\u001b[0m\n\u001b[0m\u001b[1;32m    656\u001b[0m                 \u001b[0mself\u001b[0m\u001b[0;34m.\u001b[0m\u001b[0mdata\u001b[0m \u001b[0;34m=\u001b[0m \u001b[0mf\u001b[0m\u001b[0;34m.\u001b[0m\u001b[0mread\u001b[0m\u001b[0;34m(\u001b[0m\u001b[0;34m)\u001b[0m\u001b[0;34m\u001b[0m\u001b[0;34m\u001b[0m\u001b[0m\n\u001b[1;32m    657\u001b[0m         \u001b[0;32melif\u001b[0m \u001b[0mself\u001b[0m\u001b[0;34m.\u001b[0m\u001b[0murl\u001b[0m \u001b[0;32mis\u001b[0m \u001b[0;32mnot\u001b[0m \u001b[0;32mNone\u001b[0m\u001b[0;34m:\u001b[0m\u001b[0;34m\u001b[0m\u001b[0;34m\u001b[0m\u001b[0m\n",
      "\u001b[0;31mFileNotFoundError\u001b[0m: [Errno 2] No such file or directory: '/astro/users/mlazz/PreMAP2019/homework/data/exomountain_trainsit.png'"
     ]
    }
   ],
   "source": [
    "#IGNORE THIS CELL - I'm just using it to display Figure 1 from the paper.\n",
    "from IPython.display import Image\n",
    "from IPython.display import display\n",
    "lc = Image(filename='/astro/users/mlazz/PreMAP2019/homework/data/exomountain_trainsit.png') \n",
    "display(lc)"
   ]
  },
  {
   "cell_type": "markdown",
   "metadata": {},
   "source": [
    "**2)**\n",
    "Create a variable called `delta_sphere` and a variable called `delta_block`. Assuming that the bottom of the graph is 0, choose a reasonable value for both variables between 0 and 1. "
   ]
  },
  {
   "cell_type": "code",
   "execution_count": 5,
   "metadata": {},
   "outputs": [],
   "source": [
    "deltasphere = .5\n",
    "deltablock = .1\n",
    "result = deltasphere - deltablock\n"
   ]
  },
  {
   "cell_type": "code",
   "execution_count": null,
   "metadata": {},
   "outputs": [],
   "source": []
  },
  {
   "cell_type": "markdown",
   "metadata": {},
   "source": [
    "**3)** How much larger is `delta_sphere` than `delta_block`?"
   ]
  },
  {
   "cell_type": "code",
   "execution_count": 6,
   "metadata": {},
   "outputs": [
    {
     "name": "stdout",
     "output_type": "stream",
     "text": [
      "0.4\n"
     ]
    }
   ],
   "source": [
    "print(result)"
   ]
  },
  {
   "cell_type": "code",
   "execution_count": null,
   "metadata": {},
   "outputs": [],
   "source": []
  },
  {
   "cell_type": "code",
   "execution_count": null,
   "metadata": {},
   "outputs": [],
   "source": []
  },
  {
   "cell_type": "markdown",
   "metadata": {},
   "source": [
    "**4)**\n",
    "From the paper, we know that the transit depth, $\\delta$ is related to the cross-sectional area of the planet, A, and the radius of the host star, R, using the equation: $\\delta = \\frac{A}{\\pi R^{2}}$. \n",
    "\n",
    "Using your value for `delta_sphere` above, if the cross-sectional area of the planet is 0.5, what is the radius of the host star? Print the radius to the screen. *Hint: the value of $\\pi$ is built into `numpy`, you can use it by typing `np.pi`.*"
   ]
  },
  {
   "cell_type": "code",
   "execution_count": 7,
   "metadata": {},
   "outputs": [
    {
     "name": "stdout",
     "output_type": "stream",
     "text": [
      "0.6307831305050401\n"
     ]
    }
   ],
   "source": [
    "import numpy as np\n",
    "delta_sphere=.4\n",
    "delta_block =.15\n",
    "A = 0.5\n",
    "R = (A/(delta_sphere *np.pi)) ** .5 \n",
    "\n",
    "print(R)"
   ]
  },
  {
   "cell_type": "markdown",
   "metadata": {},
   "source": [
    "**5)**\n",
    "Let's say you had a whole bunch of these observations and wanted to calculate the radii of a bunch of stars. Create a numpy array called `areas` that contains 10 cross-sectional areas evenly spaced out between 0.1 and 1 (including both 0.1 and 1). Print your `areas` array to the screen. Calculate the radius of the host star for each planet with an area in the `areas` array. Create an array called `radii` that contains the radius of each of thse host stars and print it to the screen."
   ]
  },
  {
   "cell_type": "code",
   "execution_count": 9,
   "metadata": {},
   "outputs": [
    {
     "name": "stdout",
     "output_type": "stream",
     "text": [
      "[0.1 0.2 0.3 0.4 0.5 0.6 0.7 0.8 0.9 1. ]\n"
     ]
    }
   ],
   "source": [
    "import numpy as np\n",
    "area = np.array([.1, .2, .3, .4, .5, .6, .7, .8, .9, 1])\n",
    "area_array = np.array(area)\n",
    "print(area_array)"
   ]
  },
  {
   "cell_type": "code",
   "execution_count": null,
   "metadata": {},
   "outputs": [],
   "source": []
  },
  {
   "cell_type": "code",
   "execution_count": null,
   "metadata": {},
   "outputs": [],
   "source": [
    "\n",
    "\n"
   ]
  },
  {
   "cell_type": "code",
   "execution_count": 10,
   "metadata": {},
   "outputs": [
    {
     "name": "stdout",
     "output_type": "stream",
     "text": [
      "[[5.60499122 3.9633273  3.23604319 2.80249561 2.50662827 2.28822808\n",
      "  2.11848755 1.98166365 1.86833041 1.77245385]]\n"
     ]
    }
   ],
   "source": [
    "radii = np.array([(np.pi/area) ** .5])\n",
    "\n",
    "radii_array = np.array(radii)\n",
    "print(radii)"
   ]
  },
  {
   "cell_type": "code",
   "execution_count": null,
   "metadata": {},
   "outputs": [],
   "source": []
  },
  {
   "cell_type": "markdown",
   "metadata": {},
   "source": [
    "**6)** Let's do some math with these numbers, just to test out some of the handy calculations we can do with python and the numpy package. Raise every value of the `radii` array to the 2nd power. Trick - do this two different ways! You will soon learn that there are always multiple ways to do something with Python, and usually more than one good way to do it! You can raise an array to a power using just normal python math operators (+, -, $*$, $**$, etc.) and with the built in `numpy` function `np.power`. Please show that you can do it both ways in the empty cell below."
   ]
  },
  {
   "cell_type": "markdown",
   "metadata": {},
   "source": [
    "Helpful hint, if you aren't sure what arguments the `np.power` function takes, read its help docs by executing the cell below."
   ]
  },
  {
   "cell_type": "code",
   "execution_count": 11,
   "metadata": {},
   "outputs": [
    {
     "name": "stdout",
     "output_type": "stream",
     "text": [
      "[[31.41592654 15.70796327 10.47197551  7.85398163  6.28318531  5.23598776\n",
      "   4.48798951  3.92699082  3.4906585   3.14159265]]\n"
     ]
    }
   ],
   "source": [
    "import numpy as np \n",
    "\n",
    "\n",
    "t = np.power(radii_array,2)\n",
    "print(t)"
   ]
  },
  {
   "cell_type": "code",
   "execution_count": null,
   "metadata": {},
   "outputs": [],
   "source": []
  },
  {
   "cell_type": "code",
   "execution_count": null,
   "metadata": {},
   "outputs": [],
   "source": []
  },
  {
   "cell_type": "markdown",
   "metadata": {},
   "source": [
    "**7)** Sum up the radius of each host star in the `radii` array."
   ]
  },
  {
   "cell_type": "code",
   "execution_count": 12,
   "metadata": {},
   "outputs": [
    {
     "name": "stdout",
     "output_type": "stream",
     "text": [
      "28.142649123087846\n"
     ]
    }
   ],
   "source": [
    "import numpy as np \n",
    "s = np.sum(radii_array) \n",
    "print(s)\n"
   ]
  },
  {
   "cell_type": "code",
   "execution_count": null,
   "metadata": {},
   "outputs": [],
   "source": []
  },
  {
   "cell_type": "code",
   "execution_count": null,
   "metadata": {},
   "outputs": [],
   "source": []
  },
  {
   "cell_type": "markdown",
   "metadata": {},
   "source": [
    "**8)** Subtract 0.5 from each value in the `radii` array."
   ]
  },
  {
   "cell_type": "code",
   "execution_count": 13,
   "metadata": {},
   "outputs": [
    {
     "name": "stdout",
     "output_type": "stream",
     "text": [
      "[[5.10499122 3.4633273  2.73604319 2.30249561 2.00662827 1.78822808\n",
      "  1.61848755 1.48166365 1.36833041 1.27245385]]\n"
     ]
    }
   ],
   "source": [
    "import numpy as np \n",
    "g = np.subtract(radii_array,0.5)\n",
    "print(g)\n",
    "\n",
    "\n",
    "\n",
    "\n"
   ]
  },
  {
   "cell_type": "code",
   "execution_count": null,
   "metadata": {},
   "outputs": [],
   "source": []
  },
  {
   "cell_type": "markdown",
   "metadata": {},
   "source": [
    "**9)** Divide each value of the radii array by 2."
   ]
  },
  {
   "cell_type": "code",
   "execution_count": 14,
   "metadata": {},
   "outputs": [
    {
     "name": "stdout",
     "output_type": "stream",
     "text": [
      "[[2.80249561 1.98166365 1.61802159 1.4012478  1.25331414 1.14411404\n",
      "  1.05924378 0.99083182 0.9341652  0.88622693]]\n"
     ]
    }
   ],
   "source": [
    "import numpy as np \n",
    "z = np.true_divide(radii_array,2)\n",
    "print(z)\n"
   ]
  },
  {
   "cell_type": "code",
   "execution_count": null,
   "metadata": {},
   "outputs": [],
   "source": []
  },
  {
   "cell_type": "markdown",
   "metadata": {},
   "source": [
    "**10)** Let's create a new array of star radii called `new_radii`. The `new_radii` array should contain all multiples of 3 between 0 and 999, including 999. Print `new_radii` to the screen."
   ]
  },
  {
   "cell_type": "code",
   "execution_count": 15,
   "metadata": {},
   "outputs": [
    {
     "name": "stdout",
     "output_type": "stream",
     "text": [
      "[  0   3   6   9  12  15  18  21  24  27  30  33  36  39  42  45  48  51\n",
      "  54  57  60  63  66  69  72  75  78  81  84  87  90  93  96  99 102 105\n",
      " 108 111 114 117 120 123 126 129 132 135 138 141 144 147 150 153 156 159\n",
      " 162 165 168 171 174 177 180 183 186 189 192 195 198 201 204 207 210 213\n",
      " 216 219 222 225 228 231 234 237 240 243 246 249 252 255 258 261 264 267\n",
      " 270 273 276 279 282 285 288 291 294 297 300 303 306 309 312 315 318 321\n",
      " 324 327 330 333 336 339 342 345 348 351 354 357 360 363 366 369 372 375\n",
      " 378 381 384 387 390 393 396 399 402 405 408 411 414 417 420 423 426 429\n",
      " 432 435 438 441 444 447 450 453 456 459 462 465 468 471 474 477 480 483\n",
      " 486 489 492 495 498 501 504 507 510 513 516 519 522 525 528 531 534 537\n",
      " 540 543 546 549 552 555 558 561 564 567 570 573 576 579 582 585 588 591\n",
      " 594 597 600 603 606 609 612 615 618 621 624 627 630 633 636 639 642 645\n",
      " 648 651 654 657 660 663 666 669 672 675 678 681 684 687 690 693 696 699\n",
      " 702 705 708 711 714 717 720 723 726 729 732 735 738 741 744 747 750 753\n",
      " 756 759 762 765 768 771 774 777 780 783 786 789 792 795 798 801 804 807\n",
      " 810 813 816 819 822 825 828 831 834 837 840 843 846 849 852 855 858 861\n",
      " 864 867 870 873 876 879 882 885 888 891 894 897 900 903 906 909 912 915\n",
      " 918 921 924 927 930 933 936 939 942 945 948 951 954 957 960 963 966 969\n",
      " 972 975 978 981 984 987 990 993 996 999]\n"
     ]
    }
   ],
   "source": [
    "import numpy as np \n",
    "new_radii = np.arange(0,1000,3)\n",
    "print(new_radii)\n"
   ]
  },
  {
   "cell_type": "code",
   "execution_count": null,
   "metadata": {},
   "outputs": [],
   "source": []
  },
  {
   "cell_type": "code",
   "execution_count": null,
   "metadata": {},
   "outputs": [],
   "source": []
  },
  {
   "cell_type": "code",
   "execution_count": null,
   "metadata": {},
   "outputs": [],
   "source": []
  },
  {
   "cell_type": "code",
   "execution_count": null,
   "metadata": {},
   "outputs": [],
   "source": []
  },
  {
   "cell_type": "markdown",
   "metadata": {},
   "source": [
    "**11)** Calculate the cross sectional area of the planet for each of the host stars in the `new_radii` array. Save these values in an array called `new_areas`."
   ]
  },
  {
   "cell_type": "code",
   "execution_count": 16,
   "metadata": {
    "scrolled": true
   },
   "outputs": [
    {
     "name": "stdout",
     "output_type": "stream",
     "text": [
      "[0.00000000e+00 9.95041645e+02 7.74940758e+04 9.90107875e+05\n",
      " 6.03525673e+06 2.45244524e+07 7.71098326e+07 2.03118203e+08\n",
      " 4.70027204e+08 9.85198569e+08 1.90997008e+09 3.47619776e+09\n",
      " 6.00533178e+09 9.93010319e+09 1.58188931e+10 2.44028514e+10\n",
      " 3.66058285e+10 5.35771788e+10 7.67274947e+10 1.07767323e+11\n",
      " 1.48748916e+11 2.02111071e+11 2.70727094e+11 3.57955953e+11\n",
      " 4.67696642e+11 6.04445822e+11 7.73358757e+11 9.80313604e+11\n",
      " 1.23197909e+12 1.53588561e+12 1.90049977e+12 2.33530248e+12\n",
      " 2.85087048e+12 3.45896154e+12 4.17260320e+12 5.00618514e+12\n",
      " 5.97555522e+12 7.09811921e+12 8.39294429e+12 9.88086621e+12\n",
      " 1.15846004e+13 1.35288565e+13 1.57404574e+13 1.82484616e+13\n",
      " 2.10842893e+13 2.42818534e+13 2.78776932e+13 3.19111129e+13\n",
      " 3.64243238e+13 4.14625906e+13 4.70743819e+13 5.33115241e+13\n",
      " 6.02293607e+13 6.78869140e+13 7.63470525e+13 8.56766619e+13\n",
      " 9.59468195e+13 1.07232974e+14 1.19615130e+14 1.33178034e+14\n",
      " 1.48011366e+14 1.64209941e+14 1.81873902e+14 2.01108932e+14\n",
      " 2.22026459e+14 2.44743870e+14 2.69384733e+14 2.96079015e+14\n",
      " 3.24963312e+14 3.56181080e+14 3.89882869e+14 4.26226565e+14\n",
      " 4.65377636e+14 5.07509381e+14 5.52803182e+14 6.01448765e+14\n",
      " 6.53644462e+14 7.09597479e+14 7.69524169e+14 8.33650310e+14\n",
      " 9.02211382e+14 9.75452861e+14 1.05363050e+15 1.13701065e+15\n",
      " 1.22587050e+15 1.32049847e+15 1.42119445e+15 1.52827014e+15\n",
      " 1.64204938e+15 1.76286845e+15 1.89107642e+15 2.02703548e+15\n",
      " 2.17112126e+15 2.32372322e+15 2.48524493e+15 2.65610449e+15\n",
      " 2.83673485e+15 3.02758418e+15 3.22911624e+15 3.44181078e+15\n",
      " 3.66616386e+15 3.90268828e+15 4.15191396e+15 4.41438831e+15\n",
      " 4.69067668e+15 4.98136270e+15 5.28704872e+15 5.60835624e+15\n",
      " 5.94592629e+15 6.30041989e+15 6.67251844e+15 7.06292421e+15\n",
      " 7.47236072e+15 7.90157320e+15 8.35132909e+15 8.82241841e+15\n",
      " 9.31565428e+15 9.83187337e+15 1.03719364e+16 1.09367285e+16\n",
      " 1.15271598e+16 1.21441660e+16 1.27887086e+16 1.34617756e+16\n",
      " 1.41643820e+16 1.48975702e+16 1.56624106e+16 1.64600021e+16\n",
      " 1.72914725e+16 1.81579792e+16 1.90607098e+16 2.00008823e+16\n",
      " 2.09797459e+16 2.19985817e+16 2.30587029e+16 2.41614554e+16\n",
      " 2.53082187e+16 2.65004062e+16 2.77394657e+16 2.90268804e+16\n",
      " 3.03641689e+16 3.17528863e+16 3.31946245e+16 3.46910129e+16\n",
      " 3.62437191e+16 3.78544493e+16 3.95249492e+16 4.12570044e+16\n",
      " 4.30524410e+16 4.49131266e+16 4.68409704e+16 4.88379243e+16\n",
      " 5.09059834e+16 5.30471867e+16 5.52636175e+16 5.75574044e+16\n",
      " 5.99307221e+16 6.23857915e+16 6.49248809e+16 6.75503065e+16\n",
      " 7.02644333e+16 7.30696753e+16 7.59684968e+16 7.89634128e+16\n",
      " 8.20569898e+16 8.52518466e+16 8.85506547e+16 9.19561396e+16\n",
      " 9.54710811e+16 9.90983140e+16 1.02840729e+17 1.06701275e+17\n",
      " 1.10682956e+17 1.14788835e+17 1.19022036e+17 1.23385740e+17\n",
      " 1.27883189e+17 1.32517690e+17 1.37292607e+17 1.42211370e+17\n",
      " 1.47277473e+17 1.52494474e+17 1.57865997e+17 1.63395730e+17\n",
      " 1.69087431e+17 1.74944926e+17 1.80972107e+17 1.87172939e+17\n",
      " 1.93551456e+17 2.00111763e+17 2.06858038e+17 2.13794533e+17\n",
      " 2.20925573e+17 2.28255557e+17 2.35788963e+17 2.43530343e+17\n",
      " 2.51484328e+17 2.59655626e+17 2.68049028e+17 2.76669401e+17\n",
      " 2.85521698e+17 2.94610950e+17 3.03942275e+17 3.13520873e+17\n",
      " 3.23352029e+17 3.33441116e+17 3.43793593e+17 3.54415008e+17\n",
      " 3.65310996e+17 3.76487284e+17 3.87949691e+17 3.99704125e+17\n",
      " 4.11756590e+17 4.24113182e+17 4.36780094e+17 4.49763615e+17\n",
      " 4.63070129e+17 4.76706120e+17 4.90678173e+17 5.04992970e+17\n",
      " 5.19657295e+17 5.34678038e+17 5.50062188e+17 5.65816841e+17\n",
      " 5.81949199e+17 5.98466569e+17 6.15376367e+17 6.32686120e+17\n",
      " 6.50403461e+17 6.68536137e+17 6.87092007e+17 7.06079043e+17\n",
      " 7.25505332e+17 7.45379076e+17 7.65708595e+17 7.86502327e+17\n",
      " 8.07768828e+17 8.29516776e+17 8.51754968e+17 8.74492327e+17\n",
      " 8.97737898e+17 9.21500851e+17 9.45790484e+17 9.70616220e+17\n",
      " 9.95987612e+17 1.02191434e+18 1.04840623e+18 1.07547322e+18\n",
      " 1.10312538e+18 1.13137294e+18 1.16022625e+18 1.18969579e+18\n",
      " 1.21979220e+18 1.25052624e+18 1.28190881e+18 1.31395097e+18\n",
      " 1.34666392e+18 1.38005899e+18 1.41414766e+18 1.44894158e+18\n",
      " 1.48445253e+18 1.52069244e+18 1.55767338e+18 1.59540761e+18\n",
      " 1.63390752e+18 1.67318564e+18 1.71325469e+18 1.75412752e+18\n",
      " 1.79581717e+18 1.83833681e+18 1.88169979e+18 1.92591963e+18\n",
      " 1.97100999e+18 2.01698472e+18 2.06385782e+18 2.11164349e+18\n",
      " 2.16035607e+18 2.21001008e+18 2.26062023e+18 2.31220137e+18\n",
      " 2.36476857e+18 2.41833704e+18 2.47292220e+18 2.52853963e+18\n",
      " 2.58520511e+18 2.64293458e+18 2.70174419e+18 2.76165026e+18\n",
      " 2.82266931e+18 2.88481804e+18 2.94811336e+18 3.01257234e+18\n",
      " 3.07821228e+18 3.14505065e+18 3.21310514e+18 3.28239362e+18\n",
      " 3.35293416e+18 3.42474506e+18 3.49784479e+18 3.57225204e+18\n",
      " 3.64798572e+18 3.72506491e+18 3.80350895e+18 3.88333736e+18\n",
      " 3.96456988e+18 4.04722647e+18 4.13132729e+18 4.21689275e+18\n",
      " 4.30394344e+18 4.39250021e+18 4.48258411e+18 4.57421641e+18\n",
      " 4.66741864e+18 4.76221252e+18 4.85862002e+18 4.95666333e+18\n",
      " 5.05636489e+18 5.15774737e+18 5.26083366e+18 5.36564690e+18\n",
      " 5.47221048e+18 5.58054802e+18 5.69068338e+18 5.80264068e+18\n",
      " 5.91644428e+18 6.03211878e+18 6.14968904e+18 6.26918017e+18\n",
      " 6.39061754e+18 6.51402677e+18 6.63943373e+18 6.76686457e+18\n",
      " 6.89634568e+18 7.02790373e+18]\n"
     ]
    }
   ],
   "source": [
    "import numpy as np \n",
    " \n",
    "new_area = np.power(new_radii,2) ** np.pi \n",
    "\n",
    "print(new_area)"
   ]
  },
  {
   "cell_type": "code",
   "execution_count": null,
   "metadata": {},
   "outputs": [],
   "source": []
  },
  {
   "cell_type": "markdown",
   "metadata": {},
   "source": [
    "**12)** You might notice that when you print out `new_areas` that the values are listed in scientific notation. This is a useful feature of Python, especially when working with big numbers like we do in astronomy. Print the 5th element of the `new_areas` array to the screen. *Hint: remember that Python indexes starting with 0."
   ]
  },
  {
   "cell_type": "code",
   "execution_count": 17,
   "metadata": {
    "scrolled": true
   },
   "outputs": [
    {
     "name": "stdout",
     "output_type": "stream",
     "text": [
      "77109832.64764465\n"
     ]
    }
   ],
   "source": [
    "import numpy as np \n",
    "\n",
    "print(new_area[6])"
   ]
  },
  {
   "cell_type": "code",
   "execution_count": null,
   "metadata": {},
   "outputs": [],
   "source": []
  },
  {
   "cell_type": "markdown",
   "metadata": {},
   "source": [
    "**13)** What is the sum of the cross sectional areas of all of the planets in the `new_areas` array?"
   ]
  },
  {
   "cell_type": "code",
   "execution_count": 19,
   "metadata": {},
   "outputs": [
    {
     "name": "stdout",
     "output_type": "stream",
     "text": [
      "3.248530808717849e+20\n"
     ]
    }
   ],
   "source": [
    "import numpy as np\n",
    "b = np.sum(new_area)\n",
    "\n",
    "print(b) \n"
   ]
  },
  {
   "cell_type": "code",
   "execution_count": null,
   "metadata": {},
   "outputs": [],
   "source": []
  },
  {
   "cell_type": "code",
   "execution_count": null,
   "metadata": {},
   "outputs": [],
   "source": []
  },
  {
   "cell_type": "code",
   "execution_count": null,
   "metadata": {},
   "outputs": [],
   "source": []
  },
  {
   "cell_type": "markdown",
   "metadata": {},
   "source": [
    "**14)** What is the sum of the radii of all of the stars in the `new_radii` array with a radius of greater than 400?"
   ]
  },
  {
   "cell_type": "code",
   "execution_count": 20,
   "metadata": {},
   "outputs": [
    {
     "name": "stdout",
     "output_type": "stream",
     "text": [
      "166833\n"
     ]
    }
   ],
   "source": [
    "c = np.sum(new_radii)\n",
    "print(c)"
   ]
  },
  {
   "cell_type": "markdown",
   "metadata": {},
   "source": [
    "**15)** How many of the values in `new_radii` are even? Use Exercise 5 (putting it all together) from the `numpy` lesson as a reference."
   ]
  },
  {
   "cell_type": "code",
   "execution_count": 28,
   "metadata": {},
   "outputs": [
    {
     "name": "stdout",
     "output_type": "stream",
     "text": [
      "1\n",
      "1\n",
      "2\n",
      "2\n",
      "3\n",
      "3\n",
      "4\n",
      "4\n",
      "5\n",
      "5\n",
      "6\n",
      "6\n",
      "7\n",
      "7\n",
      "8\n",
      "8\n",
      "9\n",
      "9\n",
      "10\n",
      "10\n",
      "11\n",
      "11\n",
      "12\n",
      "12\n",
      "13\n",
      "13\n",
      "14\n",
      "14\n",
      "15\n",
      "15\n",
      "16\n",
      "16\n",
      "17\n",
      "17\n",
      "18\n",
      "18\n",
      "19\n",
      "19\n",
      "20\n",
      "20\n",
      "21\n",
      "21\n",
      "22\n",
      "22\n",
      "23\n",
      "23\n",
      "24\n",
      "24\n",
      "25\n",
      "25\n",
      "26\n",
      "26\n",
      "27\n",
      "27\n",
      "28\n",
      "28\n",
      "29\n",
      "29\n",
      "30\n",
      "30\n",
      "31\n",
      "31\n",
      "32\n",
      "32\n",
      "33\n",
      "33\n",
      "34\n",
      "34\n",
      "35\n",
      "35\n",
      "36\n",
      "36\n",
      "37\n",
      "37\n",
      "38\n",
      "38\n",
      "39\n",
      "39\n",
      "40\n",
      "40\n",
      "41\n",
      "41\n",
      "42\n",
      "42\n",
      "43\n",
      "43\n",
      "44\n",
      "44\n",
      "45\n",
      "45\n",
      "46\n",
      "46\n",
      "47\n",
      "47\n",
      "48\n",
      "48\n",
      "49\n",
      "49\n",
      "50\n",
      "50\n",
      "51\n",
      "51\n",
      "52\n",
      "52\n",
      "53\n",
      "53\n",
      "54\n",
      "54\n",
      "55\n",
      "55\n",
      "56\n",
      "56\n",
      "57\n",
      "57\n",
      "58\n",
      "58\n",
      "59\n",
      "59\n",
      "60\n",
      "60\n",
      "61\n",
      "61\n",
      "62\n",
      "62\n",
      "63\n",
      "63\n",
      "64\n",
      "64\n",
      "65\n",
      "65\n",
      "66\n",
      "66\n",
      "67\n",
      "67\n",
      "68\n",
      "68\n",
      "69\n",
      "69\n",
      "70\n",
      "70\n",
      "71\n",
      "71\n",
      "72\n",
      "72\n",
      "73\n",
      "73\n",
      "74\n",
      "74\n",
      "75\n",
      "75\n",
      "76\n",
      "76\n",
      "77\n",
      "77\n",
      "78\n",
      "78\n",
      "79\n",
      "79\n",
      "80\n",
      "80\n",
      "81\n",
      "81\n",
      "82\n",
      "82\n",
      "83\n",
      "83\n",
      "84\n",
      "84\n",
      "85\n",
      "85\n",
      "86\n",
      "86\n",
      "87\n",
      "87\n",
      "88\n",
      "88\n",
      "89\n",
      "89\n",
      "90\n",
      "90\n",
      "91\n",
      "91\n",
      "92\n",
      "92\n",
      "93\n",
      "93\n",
      "94\n",
      "94\n",
      "95\n",
      "95\n",
      "96\n",
      "96\n",
      "97\n",
      "97\n",
      "98\n",
      "98\n",
      "99\n",
      "99\n",
      "100\n",
      "100\n",
      "101\n",
      "101\n",
      "102\n",
      "102\n",
      "103\n",
      "103\n",
      "104\n",
      "104\n",
      "105\n",
      "105\n",
      "106\n",
      "106\n",
      "107\n",
      "107\n",
      "108\n",
      "108\n",
      "109\n",
      "109\n",
      "110\n",
      "110\n",
      "111\n",
      "111\n",
      "112\n",
      "112\n",
      "113\n",
      "113\n",
      "114\n",
      "114\n",
      "115\n",
      "115\n",
      "116\n",
      "116\n",
      "117\n",
      "117\n",
      "118\n",
      "118\n",
      "119\n",
      "119\n",
      "120\n",
      "120\n",
      "121\n",
      "121\n",
      "122\n",
      "122\n",
      "123\n",
      "123\n",
      "124\n",
      "124\n",
      "125\n",
      "125\n",
      "126\n",
      "126\n",
      "127\n",
      "127\n",
      "128\n",
      "128\n",
      "129\n",
      "129\n",
      "130\n",
      "130\n",
      "131\n",
      "131\n",
      "132\n",
      "132\n",
      "133\n",
      "133\n",
      "134\n",
      "134\n",
      "135\n",
      "135\n",
      "136\n",
      "136\n",
      "137\n",
      "137\n",
      "138\n",
      "138\n",
      "139\n",
      "139\n",
      "140\n",
      "140\n",
      "141\n",
      "141\n",
      "142\n",
      "142\n",
      "143\n",
      "143\n",
      "144\n",
      "144\n",
      "145\n",
      "145\n",
      "146\n",
      "146\n",
      "147\n",
      "147\n",
      "148\n",
      "148\n",
      "149\n",
      "149\n",
      "150\n",
      "150\n",
      "151\n",
      "151\n",
      "152\n",
      "152\n",
      "153\n",
      "153\n",
      "154\n",
      "154\n",
      "155\n",
      "155\n",
      "156\n",
      "156\n",
      "157\n",
      "157\n",
      "158\n",
      "158\n",
      "159\n",
      "159\n",
      "160\n",
      "160\n",
      "161\n",
      "161\n",
      "162\n",
      "162\n",
      "163\n",
      "163\n",
      "164\n",
      "164\n",
      "165\n",
      "165\n",
      "166\n",
      "166\n",
      "167\n",
      "167\n"
     ]
    }
   ],
   "source": [
    "new_radii =np.arange(0,1000,3)\n",
    "even_radii=[]\n",
    "\n",
    "for radii in new_radii:\n",
    "    if(radii%2==0):\n",
    "        even_radii.append(radii)\n",
    "    print(len(even_radii))"
   ]
  },
  {
   "cell_type": "code",
   "execution_count": 30,
   "metadata": {},
   "outputs": [
    {
     "ename": "FileNotFoundError",
     "evalue": "[Errno 2] No such file or directory: '/astro/users/mlazz/PreMAP2019/homework/data/bumpiness_fig2.png'",
     "output_type": "error",
     "traceback": [
      "\u001b[0;31m---------------------------------------------------------------------------\u001b[0m",
      "\u001b[0;31mFileNotFoundError\u001b[0m                         Traceback (most recent call last)",
      "\u001b[0;32m<ipython-input-30-65d314d1cc81>\u001b[0m in \u001b[0;36m<module>\u001b[0;34m\u001b[0m\n\u001b[1;32m      1\u001b[0m \u001b[0;31m#IGNORE THIS CELL - just displaying Figure 2\u001b[0m\u001b[0;34m\u001b[0m\u001b[0;34m\u001b[0m\u001b[0;34m\u001b[0m\u001b[0m\n\u001b[0;32m----> 2\u001b[0;31m \u001b[0mbumpiness\u001b[0m \u001b[0;34m=\u001b[0m \u001b[0mImage\u001b[0m\u001b[0;34m(\u001b[0m\u001b[0mfilename\u001b[0m\u001b[0;34m=\u001b[0m\u001b[0;34m'/astro/users/mlazz/PreMAP2019/homework/data/bumpiness_fig2.png'\u001b[0m\u001b[0;34m)\u001b[0m\u001b[0;34m\u001b[0m\u001b[0;34m\u001b[0m\u001b[0m\n\u001b[0m\u001b[1;32m      3\u001b[0m \u001b[0mdisplay\u001b[0m\u001b[0;34m(\u001b[0m\u001b[0mbumpiness\u001b[0m\u001b[0;34m)\u001b[0m\u001b[0;34m\u001b[0m\u001b[0;34m\u001b[0m\u001b[0m\n",
      "\u001b[0;32m/opt/conda/lib/python3.7/site-packages/IPython/core/display.py\u001b[0m in \u001b[0;36m__init__\u001b[0;34m(self, data, url, filename, format, embed, width, height, retina, unconfined, metadata)\u001b[0m\n\u001b[1;32m   1223\u001b[0m         \u001b[0mself\u001b[0m\u001b[0;34m.\u001b[0m\u001b[0munconfined\u001b[0m \u001b[0;34m=\u001b[0m \u001b[0munconfined\u001b[0m\u001b[0;34m\u001b[0m\u001b[0;34m\u001b[0m\u001b[0m\n\u001b[1;32m   1224\u001b[0m         super(Image, self).__init__(data=data, url=url, filename=filename, \n\u001b[0;32m-> 1225\u001b[0;31m                 metadata=metadata)\n\u001b[0m\u001b[1;32m   1226\u001b[0m \u001b[0;34m\u001b[0m\u001b[0m\n\u001b[1;32m   1227\u001b[0m         \u001b[0;32mif\u001b[0m \u001b[0mself\u001b[0m\u001b[0;34m.\u001b[0m\u001b[0mwidth\u001b[0m \u001b[0;32mis\u001b[0m \u001b[0;32mNone\u001b[0m \u001b[0;32mand\u001b[0m \u001b[0mself\u001b[0m\u001b[0;34m.\u001b[0m\u001b[0mmetadata\u001b[0m\u001b[0;34m.\u001b[0m\u001b[0mget\u001b[0m\u001b[0;34m(\u001b[0m\u001b[0;34m'width'\u001b[0m\u001b[0;34m,\u001b[0m \u001b[0;34m{\u001b[0m\u001b[0;34m}\u001b[0m\u001b[0;34m)\u001b[0m\u001b[0;34m:\u001b[0m\u001b[0;34m\u001b[0m\u001b[0;34m\u001b[0m\u001b[0m\n",
      "\u001b[0;32m/opt/conda/lib/python3.7/site-packages/IPython/core/display.py\u001b[0m in \u001b[0;36m__init__\u001b[0;34m(self, data, url, filename, metadata)\u001b[0m\n\u001b[1;32m    628\u001b[0m             \u001b[0mself\u001b[0m\u001b[0;34m.\u001b[0m\u001b[0mmetadata\u001b[0m \u001b[0;34m=\u001b[0m \u001b[0;34m{\u001b[0m\u001b[0;34m}\u001b[0m\u001b[0;34m\u001b[0m\u001b[0;34m\u001b[0m\u001b[0m\n\u001b[1;32m    629\u001b[0m \u001b[0;34m\u001b[0m\u001b[0m\n\u001b[0;32m--> 630\u001b[0;31m         \u001b[0mself\u001b[0m\u001b[0;34m.\u001b[0m\u001b[0mreload\u001b[0m\u001b[0;34m(\u001b[0m\u001b[0;34m)\u001b[0m\u001b[0;34m\u001b[0m\u001b[0;34m\u001b[0m\u001b[0m\n\u001b[0m\u001b[1;32m    631\u001b[0m         \u001b[0mself\u001b[0m\u001b[0;34m.\u001b[0m\u001b[0m_check_data\u001b[0m\u001b[0;34m(\u001b[0m\u001b[0;34m)\u001b[0m\u001b[0;34m\u001b[0m\u001b[0;34m\u001b[0m\u001b[0m\n\u001b[1;32m    632\u001b[0m \u001b[0;34m\u001b[0m\u001b[0m\n",
      "\u001b[0;32m/opt/conda/lib/python3.7/site-packages/IPython/core/display.py\u001b[0m in \u001b[0;36mreload\u001b[0;34m(self)\u001b[0m\n\u001b[1;32m   1254\u001b[0m         \u001b[0;34m\"\"\"Reload the raw data from file or URL.\"\"\"\u001b[0m\u001b[0;34m\u001b[0m\u001b[0;34m\u001b[0m\u001b[0m\n\u001b[1;32m   1255\u001b[0m         \u001b[0;32mif\u001b[0m \u001b[0mself\u001b[0m\u001b[0;34m.\u001b[0m\u001b[0membed\u001b[0m\u001b[0;34m:\u001b[0m\u001b[0;34m\u001b[0m\u001b[0;34m\u001b[0m\u001b[0m\n\u001b[0;32m-> 1256\u001b[0;31m             \u001b[0msuper\u001b[0m\u001b[0;34m(\u001b[0m\u001b[0mImage\u001b[0m\u001b[0;34m,\u001b[0m\u001b[0mself\u001b[0m\u001b[0;34m)\u001b[0m\u001b[0;34m.\u001b[0m\u001b[0mreload\u001b[0m\u001b[0;34m(\u001b[0m\u001b[0;34m)\u001b[0m\u001b[0;34m\u001b[0m\u001b[0;34m\u001b[0m\u001b[0m\n\u001b[0m\u001b[1;32m   1257\u001b[0m             \u001b[0;32mif\u001b[0m \u001b[0mself\u001b[0m\u001b[0;34m.\u001b[0m\u001b[0mretina\u001b[0m\u001b[0;34m:\u001b[0m\u001b[0;34m\u001b[0m\u001b[0;34m\u001b[0m\u001b[0m\n\u001b[1;32m   1258\u001b[0m                 \u001b[0mself\u001b[0m\u001b[0;34m.\u001b[0m\u001b[0m_retina_shape\u001b[0m\u001b[0;34m(\u001b[0m\u001b[0;34m)\u001b[0m\u001b[0;34m\u001b[0m\u001b[0;34m\u001b[0m\u001b[0m\n",
      "\u001b[0;32m/opt/conda/lib/python3.7/site-packages/IPython/core/display.py\u001b[0m in \u001b[0;36mreload\u001b[0;34m(self)\u001b[0m\n\u001b[1;32m    653\u001b[0m         \u001b[0;34m\"\"\"Reload the raw data from file or URL.\"\"\"\u001b[0m\u001b[0;34m\u001b[0m\u001b[0;34m\u001b[0m\u001b[0m\n\u001b[1;32m    654\u001b[0m         \u001b[0;32mif\u001b[0m \u001b[0mself\u001b[0m\u001b[0;34m.\u001b[0m\u001b[0mfilename\u001b[0m \u001b[0;32mis\u001b[0m \u001b[0;32mnot\u001b[0m \u001b[0;32mNone\u001b[0m\u001b[0;34m:\u001b[0m\u001b[0;34m\u001b[0m\u001b[0;34m\u001b[0m\u001b[0m\n\u001b[0;32m--> 655\u001b[0;31m             \u001b[0;32mwith\u001b[0m \u001b[0mopen\u001b[0m\u001b[0;34m(\u001b[0m\u001b[0mself\u001b[0m\u001b[0;34m.\u001b[0m\u001b[0mfilename\u001b[0m\u001b[0;34m,\u001b[0m \u001b[0mself\u001b[0m\u001b[0;34m.\u001b[0m\u001b[0m_read_flags\u001b[0m\u001b[0;34m)\u001b[0m \u001b[0;32mas\u001b[0m \u001b[0mf\u001b[0m\u001b[0;34m:\u001b[0m\u001b[0;34m\u001b[0m\u001b[0;34m\u001b[0m\u001b[0m\n\u001b[0m\u001b[1;32m    656\u001b[0m                 \u001b[0mself\u001b[0m\u001b[0;34m.\u001b[0m\u001b[0mdata\u001b[0m \u001b[0;34m=\u001b[0m \u001b[0mf\u001b[0m\u001b[0;34m.\u001b[0m\u001b[0mread\u001b[0m\u001b[0;34m(\u001b[0m\u001b[0;34m)\u001b[0m\u001b[0;34m\u001b[0m\u001b[0;34m\u001b[0m\u001b[0m\n\u001b[1;32m    657\u001b[0m         \u001b[0;32melif\u001b[0m \u001b[0mself\u001b[0m\u001b[0;34m.\u001b[0m\u001b[0murl\u001b[0m \u001b[0;32mis\u001b[0m \u001b[0;32mnot\u001b[0m \u001b[0;32mNone\u001b[0m\u001b[0;34m:\u001b[0m\u001b[0;34m\u001b[0m\u001b[0;34m\u001b[0m\u001b[0m\n",
      "\u001b[0;31mFileNotFoundError\u001b[0m: [Errno 2] No such file or directory: '/astro/users/mlazz/PreMAP2019/homework/data/bumpiness_fig2.png'"
     ]
    }
   ],
   "source": [
    "#IGNORE THIS CELL - just displaying Figure 2\n",
    "bumpiness = Image(filename='/astro/users/mlazz/PreMAP2019/homework/data/bumpiness_fig2.png') \n",
    "display(bumpiness)"
   ]
  },
  {
   "cell_type": "markdown",
   "metadata": {},
   "source": [
    "**16)** Define a variable `r_star` with a value of 0.1 that defines the 0.1 solar radius M-dwarf star used as a reference in this paper. Create an array called `transit_scatter` that contains 100 values between 0.2 and 1.4 describing the transit scatter of 100 fictional planets. \n",
    "\n",
    "Use the equation printed on the figure to determine the bumpiness of each of these planets. Save the bumpiness of each planet into an array called `bumpiness`. Print `bumpiness` to the screen."
   ]
  },
  {
   "cell_type": "code",
   "execution_count": 27,
   "metadata": {},
   "outputs": [
    {
     "name": "stdout",
     "output_type": "stream",
     "text": [
      "[0.2        0.21212121 0.22424242 0.23636364 0.24848485 0.26060606\n",
      " 0.27272727 0.28484848 0.2969697  0.30909091 0.32121212 0.33333333\n",
      " 0.34545455 0.35757576 0.36969697 0.38181818 0.39393939 0.40606061\n",
      " 0.41818182 0.43030303 0.44242424 0.45454545 0.46666667 0.47878788\n",
      " 0.49090909 0.5030303  0.51515152 0.52727273 0.53939394 0.55151515\n",
      " 0.56363636 0.57575758 0.58787879 0.6        0.61212121 0.62424242\n",
      " 0.63636364 0.64848485 0.66060606 0.67272727 0.68484848 0.6969697\n",
      " 0.70909091 0.72121212 0.73333333 0.74545455 0.75757576 0.76969697\n",
      " 0.78181818 0.79393939 0.80606061 0.81818182 0.83030303 0.84242424\n",
      " 0.85454545 0.86666667 0.87878788 0.89090909 0.9030303  0.91515152\n",
      " 0.92727273 0.93939394 0.95151515 0.96363636 0.97575758 0.98787879\n",
      " 1.         1.01212121 1.02424242 1.03636364 1.04848485 1.06060606\n",
      " 1.07272727 1.08484848 1.0969697  1.10909091 1.12121212 1.13333333\n",
      " 1.14545455 1.15757576 1.16969697 1.18181818 1.19393939 1.20606061\n",
      " 1.21818182 1.23030303 1.24242424 1.25454545 1.26666667 1.27878788\n",
      " 1.29090909 1.3030303  1.31515152 1.32727273 1.33939394 1.35151515\n",
      " 1.36363636 1.37575758 1.38787879 1.4       ]\n"
     ]
    }
   ],
   "source": [
    "r_star = 0.1\n",
    "transit_scatter =np.linspace(0.2,1.4,100)\n",
    "print(transit_scatter)\n",
    "new_bumpiness = \n",
    "print(bumpiness)"
   ]
  },
  {
   "cell_type": "markdown",
   "metadata": {},
   "source": [
    "**17)** The height of Mt. Everest is 8848 meters. What would the transit depth of a planet need to be in order for its `bumpiness` to be equal to the height of Mt. Everest?"
   ]
  },
  {
   "cell_type": "code",
   "execution_count": null,
   "metadata": {},
   "outputs": [],
   "source": [
    "k = 8848\n"
   ]
  },
  {
   "cell_type": "markdown",
   "metadata": {},
   "source": [
    "**18)** What is the mean bumpiness of your planets? What is the standard deviation of the bumpiness? What is the median? *Hint: there are functions in numpy for all of these google it if you don't remember!*"
   ]
  },
  {
   "cell_type": "code",
   "execution_count": null,
   "metadata": {},
   "outputs": [],
   "source": [
    "mean = planet_array.mean()"
   ]
  },
  {
   "cell_type": "code",
   "execution_count": null,
   "metadata": {},
   "outputs": [],
   "source": [
    "median =(np.sum(planet_array))/2"
   ]
  },
  {
   "cell_type": "code",
   "execution_count": null,
   "metadata": {},
   "outputs": [],
   "source": [
    "std_dev =planet_array.std()"
   ]
  },
  {
   "cell_type": "markdown",
   "metadata": {},
   "source": [
    "**19)** Let's say, more realistically, we changed the radius of the star in our bumpiness diagram to the radius of the Sun, R = 1 $R_{*}$. Using the value of the transit depth scatter from Figure 2 for both the wet and dry Earth, what would be the bumpiness in meters of the wet and the dry Earth?"
   ]
  },
  {
   "cell_type": "code",
   "execution_count": null,
   "metadata": {},
   "outputs": [],
   "source": [
    "8"
   ]
  },
  {
   "cell_type": "markdown",
   "metadata": {},
   "source": [
    "**20)** How do these new bumpiness measurements compare to Mt. Everest? "
   ]
  },
  {
   "cell_type": "markdown",
   "metadata": {},
   "source": [
    "Write your answer here in this markdown cell:\n"
   ]
  }
 ],
 "metadata": {
  "kernelspec": {
   "display_name": "Python 3",
   "language": "python",
   "name": "python3"
  },
  "language_info": {
   "codemirror_mode": {
    "name": "ipython",
    "version": 3
   },
   "file_extension": ".py",
   "mimetype": "text/x-python",
   "name": "python",
   "nbconvert_exporter": "python",
   "pygments_lexer": "ipython3",
   "version": "3.7.8"
  }
 },
 "nbformat": 4,
 "nbformat_minor": 2
}
